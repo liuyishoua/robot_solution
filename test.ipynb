{
 "cells": [
  {
   "cell_type": "code",
   "execution_count": 22,
   "metadata": {},
   "outputs": [
    {
     "name": "stdout",
     "output_type": "stream",
     "text": [
      "[[14, 3], [25, 2], [56, 1], [58, 4]]\n"
     ]
    }
   ],
   "source": [
    "my_list = [[56,1],[25,2],[14,3],[58,4]]\n",
    "sorted_list = sorted(my_list, key=lambda x: x[0])\n",
    "print(sorted_list)"
   ]
  },
  {
   "cell_type": "code",
   "execution_count": 20,
   "metadata": {},
   "outputs": [
    {
     "data": {
      "text/plain": [
       "array([{1: 1}, {2: 1, 1: 1}, {3: 1, 1: 1}], dtype=object)"
      ]
     },
     "execution_count": 20,
     "metadata": {},
     "output_type": "execute_result"
    }
   ],
   "source": [
    "a = [{1:1, 1:1},{2:1, 1:1},{3:1, 1:1}]\n",
    "b = np.array(a)\n",
    "b"
   ]
  },
  {
   "cell_type": "code",
   "execution_count": 7,
   "metadata": {},
   "outputs": [
    {
     "name": "stdout",
     "output_type": "stream",
     "text": [
      "0111001b\n",
      "0 0\n",
      "1 1\n",
      "2 1\n",
      "3 1\n",
      "4 0\n",
      "5 0\n",
      "6 1\n",
      "7 b\n",
      "[1, 2, 3, 6]\n"
     ]
    }
   ],
   "source": [
    "# Convert the number to a binary string and remove the '0b' prefix\n",
    "binary_string = bin(78)[1:][::-1]\n",
    "print (binary_string)\n",
    "# Create a list of the non-zero indices using a list comprehension\n",
    "for i, bit in enumerate(binary_string):\n",
    "    print (i, bit)\n",
    "nonzero_indices = [i for i, bit in enumerate(binary_string) if bit == '1']\n",
    "print (nonzero_indices)"
   ]
  },
  {
   "cell_type": "code",
   "execution_count": null,
   "metadata": {},
   "outputs": [],
   "source": []
  }
 ],
 "metadata": {
  "kernelspec": {
   "display_name": "base",
   "language": "python",
   "name": "python3"
  },
  "language_info": {
   "codemirror_mode": {
    "name": "ipython",
    "version": 3
   },
   "file_extension": ".py",
   "mimetype": "text/x-python",
   "name": "python",
   "nbconvert_exporter": "python",
   "pygments_lexer": "ipython3",
   "version": "3.9.15"
  },
  "orig_nbformat": 4
 },
 "nbformat": 4,
 "nbformat_minor": 2
}
